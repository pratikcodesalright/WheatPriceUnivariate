{
  "nbformat": 4,
  "nbformat_minor": 0,
  "metadata": {
    "colab": {
      "provenance": []
    },
    "kernelspec": {
      "name": "python3",
      "display_name": "Python 3"
    },
    "language_info": {
      "name": "python"
    }
  },
  "cells": [
    {
      "cell_type": "code",
      "execution_count": null,
      "metadata": {
        "id": "OKgVJfRmYUCe"
      },
      "outputs": [],
      "source": [
        "import tensorflow as tf\n",
        "from tensorflow.keras.models import Sequential\n",
        "from tensorflow.keras.layers import Dense\n",
        "from tensorflow.keras.layers import LSTM\n",
        "from sklearn.model_selection import train_test_split\n",
        "from statsmodels.tsa.arima_model import ARIMA\n",
        "from sklearn.metrics import mean_absolute_error\n",
        "from sklearn.metrics import mean_squared_error\n",
        "import math\n",
        "from sklearn.metrics import r2_score\n",
        "import pandas as pd\n",
        "import numpy as np\n",
        "import matplotlib\n",
        "import matplotlib.pyplot as plt\n",
        "import sklearn\n",
        "import math\n",
        "from datetime import datetime\n",
        "from sklearn.preprocessing import MinMaxScaler\n",
        "import math"
      ]
    },
    {
      "cell_type": "code",
      "source": [
        "from google.colab import drive\n",
        "drive.mount('/content/drive')\n",
        "df = pd.read_csv('/content/drive/MyDrive/ML PROJECT/DATA FILE/ML EL Dataset.csv')\n",
        "df.head()"
      ],
      "metadata": {
        "colab": {
          "base_uri": "https://localhost:8080/",
          "height": 224
        },
        "id": "S4HnNYK1apX1",
        "outputId": "d50eeb87-6586-4e0e-a505-be2b64624cac"
      },
      "execution_count": null,
      "outputs": [
        {
          "output_type": "stream",
          "name": "stdout",
          "text": [
            "Drive already mounted at /content/drive; to attempt to forcibly remount, call drive.mount(\"/content/drive\", force_remount=True).\n"
          ]
        },
        {
          "output_type": "execute_result",
          "data": {
            "text/plain": [
              "  state_name district_name market_center_name Variety group_name  Arrival  \\\n",
              "0  Karnataka        Hassan          Arasikere   Local    Cereals      5.0   \n",
              "1  Karnataka        Hassan          Arasikere   Local    Cereals      4.0   \n",
              "2  Karnataka        Hassan          Arasikere   Local    Cereals      3.0   \n",
              "3  Karnataka        Hassan          Arasikere   Local    Cereals      8.0   \n",
              "4  Karnataka        Hassan          Arasikere   Local    Cereals      2.0   \n",
              "\n",
              "      MIN     MAX   MODAL date_arrival  \n",
              "0  2690.0  2690.0  2690.0    5/26/2022  \n",
              "1  2725.0  2725.0  2725.0    4/19/2022  \n",
              "2  2950.0  2950.0  2950.0    3/24/2022  \n",
              "3  2490.0  2835.0  2700.0    3/11/2022  \n",
              "4  2411.0  2411.0  2411.0    2/18/2022  "
            ],
            "text/html": [
              "\n",
              "  <div id=\"df-e3741b7b-3c0e-418d-87d9-43247437685e\">\n",
              "    <div class=\"colab-df-container\">\n",
              "      <div>\n",
              "<style scoped>\n",
              "    .dataframe tbody tr th:only-of-type {\n",
              "        vertical-align: middle;\n",
              "    }\n",
              "\n",
              "    .dataframe tbody tr th {\n",
              "        vertical-align: top;\n",
              "    }\n",
              "\n",
              "    .dataframe thead th {\n",
              "        text-align: right;\n",
              "    }\n",
              "</style>\n",
              "<table border=\"1\" class=\"dataframe\">\n",
              "  <thead>\n",
              "    <tr style=\"text-align: right;\">\n",
              "      <th></th>\n",
              "      <th>state_name</th>\n",
              "      <th>district_name</th>\n",
              "      <th>market_center_name</th>\n",
              "      <th>Variety</th>\n",
              "      <th>group_name</th>\n",
              "      <th>Arrival</th>\n",
              "      <th>MIN</th>\n",
              "      <th>MAX</th>\n",
              "      <th>MODAL</th>\n",
              "      <th>date_arrival</th>\n",
              "    </tr>\n",
              "  </thead>\n",
              "  <tbody>\n",
              "    <tr>\n",
              "      <th>0</th>\n",
              "      <td>Karnataka</td>\n",
              "      <td>Hassan</td>\n",
              "      <td>Arasikere</td>\n",
              "      <td>Local</td>\n",
              "      <td>Cereals</td>\n",
              "      <td>5.0</td>\n",
              "      <td>2690.0</td>\n",
              "      <td>2690.0</td>\n",
              "      <td>2690.0</td>\n",
              "      <td>5/26/2022</td>\n",
              "    </tr>\n",
              "    <tr>\n",
              "      <th>1</th>\n",
              "      <td>Karnataka</td>\n",
              "      <td>Hassan</td>\n",
              "      <td>Arasikere</td>\n",
              "      <td>Local</td>\n",
              "      <td>Cereals</td>\n",
              "      <td>4.0</td>\n",
              "      <td>2725.0</td>\n",
              "      <td>2725.0</td>\n",
              "      <td>2725.0</td>\n",
              "      <td>4/19/2022</td>\n",
              "    </tr>\n",
              "    <tr>\n",
              "      <th>2</th>\n",
              "      <td>Karnataka</td>\n",
              "      <td>Hassan</td>\n",
              "      <td>Arasikere</td>\n",
              "      <td>Local</td>\n",
              "      <td>Cereals</td>\n",
              "      <td>3.0</td>\n",
              "      <td>2950.0</td>\n",
              "      <td>2950.0</td>\n",
              "      <td>2950.0</td>\n",
              "      <td>3/24/2022</td>\n",
              "    </tr>\n",
              "    <tr>\n",
              "      <th>3</th>\n",
              "      <td>Karnataka</td>\n",
              "      <td>Hassan</td>\n",
              "      <td>Arasikere</td>\n",
              "      <td>Local</td>\n",
              "      <td>Cereals</td>\n",
              "      <td>8.0</td>\n",
              "      <td>2490.0</td>\n",
              "      <td>2835.0</td>\n",
              "      <td>2700.0</td>\n",
              "      <td>3/11/2022</td>\n",
              "    </tr>\n",
              "    <tr>\n",
              "      <th>4</th>\n",
              "      <td>Karnataka</td>\n",
              "      <td>Hassan</td>\n",
              "      <td>Arasikere</td>\n",
              "      <td>Local</td>\n",
              "      <td>Cereals</td>\n",
              "      <td>2.0</td>\n",
              "      <td>2411.0</td>\n",
              "      <td>2411.0</td>\n",
              "      <td>2411.0</td>\n",
              "      <td>2/18/2022</td>\n",
              "    </tr>\n",
              "  </tbody>\n",
              "</table>\n",
              "</div>\n",
              "      <button class=\"colab-df-convert\" onclick=\"convertToInteractive('df-e3741b7b-3c0e-418d-87d9-43247437685e')\"\n",
              "              title=\"Convert this dataframe to an interactive table.\"\n",
              "              style=\"display:none;\">\n",
              "        \n",
              "  <svg xmlns=\"http://www.w3.org/2000/svg\" height=\"24px\"viewBox=\"0 0 24 24\"\n",
              "       width=\"24px\">\n",
              "    <path d=\"M0 0h24v24H0V0z\" fill=\"none\"/>\n",
              "    <path d=\"M18.56 5.44l.94 2.06.94-2.06 2.06-.94-2.06-.94-.94-2.06-.94 2.06-2.06.94zm-11 1L8.5 8.5l.94-2.06 2.06-.94-2.06-.94L8.5 2.5l-.94 2.06-2.06.94zm10 10l.94 2.06.94-2.06 2.06-.94-2.06-.94-.94-2.06-.94 2.06-2.06.94z\"/><path d=\"M17.41 7.96l-1.37-1.37c-.4-.4-.92-.59-1.43-.59-.52 0-1.04.2-1.43.59L10.3 9.45l-7.72 7.72c-.78.78-.78 2.05 0 2.83L4 21.41c.39.39.9.59 1.41.59.51 0 1.02-.2 1.41-.59l7.78-7.78 2.81-2.81c.8-.78.8-2.07 0-2.86zM5.41 20L4 18.59l7.72-7.72 1.47 1.35L5.41 20z\"/>\n",
              "  </svg>\n",
              "      </button>\n",
              "      \n",
              "  <style>\n",
              "    .colab-df-container {\n",
              "      display:flex;\n",
              "      flex-wrap:wrap;\n",
              "      gap: 12px;\n",
              "    }\n",
              "\n",
              "    .colab-df-convert {\n",
              "      background-color: #E8F0FE;\n",
              "      border: none;\n",
              "      border-radius: 50%;\n",
              "      cursor: pointer;\n",
              "      display: none;\n",
              "      fill: #1967D2;\n",
              "      height: 32px;\n",
              "      padding: 0 0 0 0;\n",
              "      width: 32px;\n",
              "    }\n",
              "\n",
              "    .colab-df-convert:hover {\n",
              "      background-color: #E2EBFA;\n",
              "      box-shadow: 0px 1px 2px rgba(60, 64, 67, 0.3), 0px 1px 3px 1px rgba(60, 64, 67, 0.15);\n",
              "      fill: #174EA6;\n",
              "    }\n",
              "\n",
              "    [theme=dark] .colab-df-convert {\n",
              "      background-color: #3B4455;\n",
              "      fill: #D2E3FC;\n",
              "    }\n",
              "\n",
              "    [theme=dark] .colab-df-convert:hover {\n",
              "      background-color: #434B5C;\n",
              "      box-shadow: 0px 1px 3px 1px rgba(0, 0, 0, 0.15);\n",
              "      filter: drop-shadow(0px 1px 2px rgba(0, 0, 0, 0.3));\n",
              "      fill: #FFFFFF;\n",
              "    }\n",
              "  </style>\n",
              "\n",
              "      <script>\n",
              "        const buttonEl =\n",
              "          document.querySelector('#df-e3741b7b-3c0e-418d-87d9-43247437685e button.colab-df-convert');\n",
              "        buttonEl.style.display =\n",
              "          google.colab.kernel.accessAllowed ? 'block' : 'none';\n",
              "\n",
              "        async function convertToInteractive(key) {\n",
              "          const element = document.querySelector('#df-e3741b7b-3c0e-418d-87d9-43247437685e');\n",
              "          const dataTable =\n",
              "            await google.colab.kernel.invokeFunction('convertToInteractive',\n",
              "                                                     [key], {});\n",
              "          if (!dataTable) return;\n",
              "\n",
              "          const docLinkHtml = 'Like what you see? Visit the ' +\n",
              "            '<a target=\"_blank\" href=https://colab.research.google.com/notebooks/data_table.ipynb>data table notebook</a>'\n",
              "            + ' to learn more about interactive tables.';\n",
              "          element.innerHTML = '';\n",
              "          dataTable['output_type'] = 'display_data';\n",
              "          await google.colab.output.renderOutput(dataTable, element);\n",
              "          const docLink = document.createElement('div');\n",
              "          docLink.innerHTML = docLinkHtml;\n",
              "          element.appendChild(docLink);\n",
              "        }\n",
              "      </script>\n",
              "    </div>\n",
              "  </div>\n",
              "  "
            ]
          },
          "metadata": {},
          "execution_count": 21
        }
      ]
    },
    {
      "cell_type": "code",
      "source": [
        "df.drop(['market_center_name', 'Variety', 'group_name', 'Arrival', 'MIN', 'MAX','state_name', 'district_name'],axis = 1, inplace = True)\n",
        "df['date_arrival']=pd.to_datetime(df['date_arrival'])\n",
        "df['month'] = pd.DatetimeIndex(df['date_arrival']).month\n",
        "df['year'] = pd.DatetimeIndex(df['date_arrival']).year\n",
        "df = df.groupby(['date_arrival'])['MODAL'].mean().to_frame(name = 'price').reset_index()\n",
        "df"
      ],
      "metadata": {
        "colab": {
          "base_uri": "https://localhost:8080/",
          "height": 424
        },
        "id": "pf0ieQk3atkN",
        "outputId": "bba0f496-6ae5-4b13-9c75-5e4ef60ffa3b"
      },
      "execution_count": null,
      "outputs": [
        {
          "output_type": "execute_result",
          "data": {
            "text/plain": [
              "     date_arrival        price\n",
              "0      2001-08-01  1000.000000\n",
              "1      2001-08-02  1115.000000\n",
              "2      2001-08-03  1000.000000\n",
              "3      2001-08-04  1000.000000\n",
              "4      2001-08-06  1000.000000\n",
              "...           ...          ...\n",
              "6649   2022-07-03  2500.000000\n",
              "6650   2022-07-04  2640.571429\n",
              "6651   2022-07-05  2543.428571\n",
              "6652   2022-07-06  2427.714286\n",
              "6653   2022-07-07  2508.000000\n",
              "\n",
              "[6654 rows x 2 columns]"
            ],
            "text/html": [
              "\n",
              "  <div id=\"df-bad57829-b961-4efd-8a17-442113a0b33b\">\n",
              "    <div class=\"colab-df-container\">\n",
              "      <div>\n",
              "<style scoped>\n",
              "    .dataframe tbody tr th:only-of-type {\n",
              "        vertical-align: middle;\n",
              "    }\n",
              "\n",
              "    .dataframe tbody tr th {\n",
              "        vertical-align: top;\n",
              "    }\n",
              "\n",
              "    .dataframe thead th {\n",
              "        text-align: right;\n",
              "    }\n",
              "</style>\n",
              "<table border=\"1\" class=\"dataframe\">\n",
              "  <thead>\n",
              "    <tr style=\"text-align: right;\">\n",
              "      <th></th>\n",
              "      <th>date_arrival</th>\n",
              "      <th>price</th>\n",
              "    </tr>\n",
              "  </thead>\n",
              "  <tbody>\n",
              "    <tr>\n",
              "      <th>0</th>\n",
              "      <td>2001-08-01</td>\n",
              "      <td>1000.000000</td>\n",
              "    </tr>\n",
              "    <tr>\n",
              "      <th>1</th>\n",
              "      <td>2001-08-02</td>\n",
              "      <td>1115.000000</td>\n",
              "    </tr>\n",
              "    <tr>\n",
              "      <th>2</th>\n",
              "      <td>2001-08-03</td>\n",
              "      <td>1000.000000</td>\n",
              "    </tr>\n",
              "    <tr>\n",
              "      <th>3</th>\n",
              "      <td>2001-08-04</td>\n",
              "      <td>1000.000000</td>\n",
              "    </tr>\n",
              "    <tr>\n",
              "      <th>4</th>\n",
              "      <td>2001-08-06</td>\n",
              "      <td>1000.000000</td>\n",
              "    </tr>\n",
              "    <tr>\n",
              "      <th>...</th>\n",
              "      <td>...</td>\n",
              "      <td>...</td>\n",
              "    </tr>\n",
              "    <tr>\n",
              "      <th>6649</th>\n",
              "      <td>2022-07-03</td>\n",
              "      <td>2500.000000</td>\n",
              "    </tr>\n",
              "    <tr>\n",
              "      <th>6650</th>\n",
              "      <td>2022-07-04</td>\n",
              "      <td>2640.571429</td>\n",
              "    </tr>\n",
              "    <tr>\n",
              "      <th>6651</th>\n",
              "      <td>2022-07-05</td>\n",
              "      <td>2543.428571</td>\n",
              "    </tr>\n",
              "    <tr>\n",
              "      <th>6652</th>\n",
              "      <td>2022-07-06</td>\n",
              "      <td>2427.714286</td>\n",
              "    </tr>\n",
              "    <tr>\n",
              "      <th>6653</th>\n",
              "      <td>2022-07-07</td>\n",
              "      <td>2508.000000</td>\n",
              "    </tr>\n",
              "  </tbody>\n",
              "</table>\n",
              "<p>6654 rows × 2 columns</p>\n",
              "</div>\n",
              "      <button class=\"colab-df-convert\" onclick=\"convertToInteractive('df-bad57829-b961-4efd-8a17-442113a0b33b')\"\n",
              "              title=\"Convert this dataframe to an interactive table.\"\n",
              "              style=\"display:none;\">\n",
              "        \n",
              "  <svg xmlns=\"http://www.w3.org/2000/svg\" height=\"24px\"viewBox=\"0 0 24 24\"\n",
              "       width=\"24px\">\n",
              "    <path d=\"M0 0h24v24H0V0z\" fill=\"none\"/>\n",
              "    <path d=\"M18.56 5.44l.94 2.06.94-2.06 2.06-.94-2.06-.94-.94-2.06-.94 2.06-2.06.94zm-11 1L8.5 8.5l.94-2.06 2.06-.94-2.06-.94L8.5 2.5l-.94 2.06-2.06.94zm10 10l.94 2.06.94-2.06 2.06-.94-2.06-.94-.94-2.06-.94 2.06-2.06.94z\"/><path d=\"M17.41 7.96l-1.37-1.37c-.4-.4-.92-.59-1.43-.59-.52 0-1.04.2-1.43.59L10.3 9.45l-7.72 7.72c-.78.78-.78 2.05 0 2.83L4 21.41c.39.39.9.59 1.41.59.51 0 1.02-.2 1.41-.59l7.78-7.78 2.81-2.81c.8-.78.8-2.07 0-2.86zM5.41 20L4 18.59l7.72-7.72 1.47 1.35L5.41 20z\"/>\n",
              "  </svg>\n",
              "      </button>\n",
              "      \n",
              "  <style>\n",
              "    .colab-df-container {\n",
              "      display:flex;\n",
              "      flex-wrap:wrap;\n",
              "      gap: 12px;\n",
              "    }\n",
              "\n",
              "    .colab-df-convert {\n",
              "      background-color: #E8F0FE;\n",
              "      border: none;\n",
              "      border-radius: 50%;\n",
              "      cursor: pointer;\n",
              "      display: none;\n",
              "      fill: #1967D2;\n",
              "      height: 32px;\n",
              "      padding: 0 0 0 0;\n",
              "      width: 32px;\n",
              "    }\n",
              "\n",
              "    .colab-df-convert:hover {\n",
              "      background-color: #E2EBFA;\n",
              "      box-shadow: 0px 1px 2px rgba(60, 64, 67, 0.3), 0px 1px 3px 1px rgba(60, 64, 67, 0.15);\n",
              "      fill: #174EA6;\n",
              "    }\n",
              "\n",
              "    [theme=dark] .colab-df-convert {\n",
              "      background-color: #3B4455;\n",
              "      fill: #D2E3FC;\n",
              "    }\n",
              "\n",
              "    [theme=dark] .colab-df-convert:hover {\n",
              "      background-color: #434B5C;\n",
              "      box-shadow: 0px 1px 3px 1px rgba(0, 0, 0, 0.15);\n",
              "      filter: drop-shadow(0px 1px 2px rgba(0, 0, 0, 0.3));\n",
              "      fill: #FFFFFF;\n",
              "    }\n",
              "  </style>\n",
              "\n",
              "      <script>\n",
              "        const buttonEl =\n",
              "          document.querySelector('#df-bad57829-b961-4efd-8a17-442113a0b33b button.colab-df-convert');\n",
              "        buttonEl.style.display =\n",
              "          google.colab.kernel.accessAllowed ? 'block' : 'none';\n",
              "\n",
              "        async function convertToInteractive(key) {\n",
              "          const element = document.querySelector('#df-bad57829-b961-4efd-8a17-442113a0b33b');\n",
              "          const dataTable =\n",
              "            await google.colab.kernel.invokeFunction('convertToInteractive',\n",
              "                                                     [key], {});\n",
              "          if (!dataTable) return;\n",
              "\n",
              "          const docLinkHtml = 'Like what you see? Visit the ' +\n",
              "            '<a target=\"_blank\" href=https://colab.research.google.com/notebooks/data_table.ipynb>data table notebook</a>'\n",
              "            + ' to learn more about interactive tables.';\n",
              "          element.innerHTML = '';\n",
              "          dataTable['output_type'] = 'display_data';\n",
              "          await google.colab.output.renderOutput(dataTable, element);\n",
              "          const docLink = document.createElement('div');\n",
              "          docLink.innerHTML = docLinkHtml;\n",
              "          element.appendChild(docLink);\n",
              "        }\n",
              "      </script>\n",
              "    </div>\n",
              "  </div>\n",
              "  "
            ]
          },
          "metadata": {},
          "execution_count": 22
        }
      ]
    },
    {
      "cell_type": "code",
      "source": [
        "plt.plot(df.date_arrival, df.price)\n",
        "plt.title('Time Series Plot')\n",
        "plt.xlabel('Date')\n",
        "plt.ylabel('Price')\n",
        "plt.show()"
      ],
      "metadata": {
        "colab": {
          "base_uri": "https://localhost:8080/",
          "height": 295
        },
        "id": "PLfb4kqKbKEm",
        "outputId": "9dc45bbd-b422-43cf-a240-5f1d971756c3"
      },
      "execution_count": null,
      "outputs": [
        {
          "output_type": "display_data",
          "data": {
            "text/plain": [
              "<Figure size 432x288 with 1 Axes>"
            ],
            "image/png": "[encoded data removed]"
          },
          "metadata": {
            "needs_background": "light"
          }
        }
      ]
    },
    {
      "cell_type": "code",
      "source": [
        "df.loc[df['price']>5000]\n",
        "df.drop(6416, axis = 0, inplace = True)\n",
        "df.loc[df['price']>3000]\n",
        "df.drop(1592, axis = 0, inplace = True)"
      ],
      "metadata": {
        "id": "MhrvfK4Fb5Qn"
      },
      "execution_count": null,
      "outputs": []
    },
    {
      "cell_type": "code",
      "source": [
        "plt.plot(df.date_arrival, df.price)\n",
        "plt.title('Time Series Plot')\n",
        "plt.xlabel('Date')\n",
        "plt.ylabel('Price')\n",
        "plt.show()"
      ],
      "metadata": {
        "colab": {
          "base_uri": "https://localhost:8080/",
          "height": 295
        },
        "id": "FmjBJtI8c22y",
        "outputId": "c7cb9075-c1f5-48df-d4c8-044e33d322e5"
      },
      "execution_count": null,
      "outputs": [
        {
          "output_type": "display_data",
          "data": {
            "text/plain": [
              "<Figure size 432x288 with 1 Axes>"
            ],
            "image/png": "[encoded data removed]"
          },
          "metadata": {
            "needs_background": "light"
          }
        }
      ]
    },
    {
      "cell_type": "code",
      "source": [
        "scaler = MinMaxScaler()\n",
        "df1 = df['price'].to_numpy()\n",
        "df1 = df1.reshape(-1,1)\n",
        "df1 = scaler.fit_transform(df1)\n",
        "df['scaled_price'] = df1"
      ],
      "metadata": {
        "id": "VviWZpL7c8nq"
      },
      "execution_count": null,
      "outputs": []
    },
    {
      "cell_type": "code",
      "source": [
        "def create_dataset(dataset, time_step=1):\n",
        "  dataX, dataY = [], []\n",
        "  for i in range(len(dataset)-time_step-1):\n",
        "    a = dataset[i:(i+time_step), 0]\n",
        "    dataX.append(a)\n",
        "    dataY.append(dataset[i + time_step, 0])\n",
        "  return np.array(dataX), np.array(dataY)"
      ],
      "metadata": {
        "id": "URobS-VWdWw2"
      },
      "execution_count": null,
      "outputs": []
    },
    {
      "cell_type": "code",
      "source": [
        "x = df['date_arrival']\n",
        "y = df['scaled_price']\n",
        "x_train, x_test, y_train, y_test = train_test_split(x, y, test_size=0.2, shuffle = False)\n",
        "train = pd.DataFrame()\n",
        "test = pd.DataFrame()\n",
        "train['arrival'] = x_train\n",
        "train['scaled_price'] = y_train\n",
        "train.set_index(train['arrival'])\n",
        "train.drop('arrival', axis = 1, inplace = True)\n",
        "test['arrival'] = x_test\n",
        "test['scaled_price'] = y_test\n",
        "test.set_index(test['arrival'])\n",
        "test.drop('arrival', axis = 1, inplace = True)\n",
        "test.to_numpy()\n",
        "train.to_numpy()\n",
        "time_step = 128\n",
        "x_train, y_train = create_dataset(train.values, time_step)\n",
        "x_test, y_test = create_dataset(test.values, time_step)\n",
        "model=Sequential()\n",
        "model.add(LSTM(50,return_sequences=True,input_shape=(128,1)))\n",
        "model.add(LSTM(50,return_sequences=True))\n",
        "model.add(LSTM(50))\n",
        "model.add(Dense(1))\n",
        "model.compile(loss='mean_squared_error',optimizer='adam')\n",
        "model.fit(x_train,y_train,validation_data=(x_test,y_test),epochs=100,batch_size=64,verbose=1)\n",
        "train_predict=model.predict(x_train)\n",
        "test_predict=model.predict(x_test)\n",
        "train_predict=scaler.inverse_transform(train_predict)\n",
        "test_predict=scaler.inverse_transform(test_predict)"
      ],
      "metadata": {
        "colab": {
          "base_uri": "https://localhost:8080/"
        },
        "id": "xNV22_gAddIx",
        "outputId": "f3e9b977-12e9-4590-e633-fc417c48c4e4"
      },
      "execution_count": null,
      "outputs": [
        {
          "output_type": "stream",
          "name": "stdout",
          "text": [
            "Epoch 1/100\n",
            "82/82 [==============================] - 25s 245ms/step - loss: 0.0041 - val_loss: 0.0051\n",
            "Epoch 2/100\n",
            "82/82 [==============================] - 21s 253ms/step - loss: 0.0013 - val_loss: 0.0051\n",
            "Epoch 3/100\n",
            "82/82 [==============================] - 19s 232ms/step - loss: 0.0013 - val_loss: 0.0064\n",
            "Epoch 4/100\n",
            "82/82 [==============================] - 19s 230ms/step - loss: 0.0013 - val_loss: 0.0051\n",
            "Epoch 5/100\n",
            "82/82 [==============================] - 19s 232ms/step - loss: 0.0013 - val_loss: 0.0051\n",
            "Epoch 6/100\n",
            "82/82 [==============================] - 19s 231ms/step - loss: 0.0012 - val_loss: 0.0052\n",
            "Epoch 7/100\n",
            "82/82 [==============================] - 19s 232ms/step - loss: 0.0013 - val_loss: 0.0063\n",
            "Epoch 8/100\n",
            "82/82 [==============================] - 19s 232ms/step - loss: 0.0013 - val_loss: 0.0052\n",
            "Epoch 9/100\n",
            "82/82 [==============================] - 21s 252ms/step - loss: 0.0012 - val_loss: 0.0053\n",
            "Epoch 10/100\n",
            "82/82 [==============================] - 19s 232ms/step - loss: 0.0012 - val_loss: 0.0053\n",
            "Epoch 11/100\n",
            "82/82 [==============================] - 19s 232ms/step - loss: 0.0012 - val_loss: 0.0054\n",
            "Epoch 12/100\n",
            "82/82 [==============================] - 19s 231ms/step - loss: 0.0013 - val_loss: 0.0054\n",
            "Epoch 13/100\n",
            "82/82 [==============================] - 19s 231ms/step - loss: 0.0012 - val_loss: 0.0050\n",
            "Epoch 14/100\n",
            "82/82 [==============================] - 19s 233ms/step - loss: 0.0013 - val_loss: 0.0050\n",
            "Epoch 15/100\n",
            "82/82 [==============================] - 19s 233ms/step - loss: 0.0012 - val_loss: 0.0050\n",
            "Epoch 16/100\n",
            "82/82 [==============================] - 21s 252ms/step - loss: 0.0013 - val_loss: 0.0050\n",
            "Epoch 17/100\n",
            "82/82 [==============================] - 19s 231ms/step - loss: 0.0012 - val_loss: 0.0060\n",
            "Epoch 18/100\n",
            "82/82 [==============================] - 19s 231ms/step - loss: 0.0013 - val_loss: 0.0051\n",
            "Epoch 19/100\n",
            "82/82 [==============================] - 19s 232ms/step - loss: 0.0012 - val_loss: 0.0055\n",
            "Epoch 20/100\n",
            "82/82 [==============================] - 19s 235ms/step - loss: 0.0012 - val_loss: 0.0050\n",
            "Epoch 21/100\n",
            "82/82 [==============================] - 19s 232ms/step - loss: 0.0012 - val_loss: 0.0050\n",
            "Epoch 22/100\n",
            "82/82 [==============================] - 19s 232ms/step - loss: 0.0013 - val_loss: 0.0054\n",
            "Epoch 23/100\n",
            "82/82 [==============================] - 21s 253ms/step - loss: 0.0012 - val_loss: 0.0051\n",
            "Epoch 24/100\n",
            "82/82 [==============================] - 19s 233ms/step - loss: 0.0012 - val_loss: 0.0051\n",
            "Epoch 25/100\n",
            "82/82 [==============================] - 19s 232ms/step - loss: 0.0012 - val_loss: 0.0066\n",
            "Epoch 26/100\n",
            "82/82 [==============================] - 19s 233ms/step - loss: 0.0013 - val_loss: 0.0049\n",
            "Epoch 27/100\n",
            "82/82 [==============================] - 19s 233ms/step - loss: 0.0012 - val_loss: 0.0054\n",
            "Epoch 28/100\n",
            "82/82 [==============================] - 19s 232ms/step - loss: 0.0012 - val_loss: 0.0050\n",
            "Epoch 29/100\n",
            "82/82 [==============================] - 21s 254ms/step - loss: 0.0012 - val_loss: 0.0053\n",
            "Epoch 30/100\n",
            "82/82 [==============================] - 19s 231ms/step - loss: 0.0012 - val_loss: 0.0054\n",
            "Epoch 31/100\n",
            "82/82 [==============================] - 19s 231ms/step - loss: 0.0012 - val_loss: 0.0050\n",
            "Epoch 32/100\n",
            "82/82 [==============================] - 19s 232ms/step - loss: 0.0012 - val_loss: 0.0049\n",
            "Epoch 33/100\n",
            "82/82 [==============================] - 19s 234ms/step - loss: 0.0012 - val_loss: 0.0051\n",
            "Epoch 34/100\n",
            "82/82 [==============================] - 19s 233ms/step - loss: 0.0013 - val_loss: 0.0057\n",
            "Epoch 35/100\n",
            "82/82 [==============================] - 19s 235ms/step - loss: 0.0013 - val_loss: 0.0057\n",
            "Epoch 36/100\n",
            "82/82 [==============================] - 21s 255ms/step - loss: 0.0013 - val_loss: 0.0056\n",
            "Epoch 37/100\n",
            "82/82 [==============================] - 19s 233ms/step - loss: 0.0013 - val_loss: 0.0050\n",
            "Epoch 38/100\n",
            "82/82 [==============================] - 19s 233ms/step - loss: 0.0012 - val_loss: 0.0051\n",
            "Epoch 39/100\n",
            "82/82 [==============================] - 19s 232ms/step - loss: 0.0013 - val_loss: 0.0058\n",
            "Epoch 40/100\n",
            "82/82 [==============================] - 19s 234ms/step - loss: 0.0013 - val_loss: 0.0049\n",
            "Epoch 41/100\n",
            "82/82 [==============================] - 19s 234ms/step - loss: 0.0012 - val_loss: 0.0064\n",
            "Epoch 42/100\n",
            "82/82 [==============================] - 19s 234ms/step - loss: 0.0012 - val_loss: 0.0051\n",
            "Epoch 43/100\n",
            "82/82 [==============================] - 21s 254ms/step - loss: 0.0012 - val_loss: 0.0049\n",
            "Epoch 44/100\n",
            "82/82 [==============================] - 19s 229ms/step - loss: 0.0012 - val_loss: 0.0050\n",
            "Epoch 45/100\n",
            "82/82 [==============================] - 19s 231ms/step - loss: 0.0012 - val_loss: 0.0050\n",
            "Epoch 46/100\n",
            "82/82 [==============================] - 19s 234ms/step - loss: 0.0012 - val_loss: 0.0049\n",
            "Epoch 47/100\n",
            "82/82 [==============================] - 19s 232ms/step - loss: 0.0012 - val_loss: 0.0049\n",
            "Epoch 48/100\n",
            "82/82 [==============================] - 19s 233ms/step - loss: 0.0012 - val_loss: 0.0053\n",
            "Epoch 49/100\n",
            "82/82 [==============================] - 19s 232ms/step - loss: 0.0012 - val_loss: 0.0050\n",
            "Epoch 50/100\n",
            "82/82 [==============================] - 21s 254ms/step - loss: 0.0012 - val_loss: 0.0049\n",
            "Epoch 51/100\n",
            "82/82 [==============================] - 19s 231ms/step - loss: 0.0012 - val_loss: 0.0049\n",
            "Epoch 52/100\n",
            "82/82 [==============================] - 19s 234ms/step - loss: 0.0013 - val_loss: 0.0056\n",
            "Epoch 53/100\n",
            "82/82 [==============================] - 19s 232ms/step - loss: 0.0012 - val_loss: 0.0054\n",
            "Epoch 54/100\n",
            "82/82 [==============================] - 19s 234ms/step - loss: 0.0013 - val_loss: 0.0052\n",
            "Epoch 55/100\n",
            "82/82 [==============================] - 19s 235ms/step - loss: 0.0012 - val_loss: 0.0049\n",
            "Epoch 56/100\n",
            "82/82 [==============================] - 21s 254ms/step - loss: 0.0012 - val_loss: 0.0051\n",
            "Epoch 57/100\n",
            "82/82 [==============================] - 19s 232ms/step - loss: 0.0012 - val_loss: 0.0054\n",
            "Epoch 58/100\n",
            "82/82 [==============================] - 19s 235ms/step - loss: 0.0012 - val_loss: 0.0056\n",
            "Epoch 59/100\n",
            "82/82 [==============================] - 19s 234ms/step - loss: 0.0012 - val_loss: 0.0051\n",
            "Epoch 60/100\n",
            "82/82 [==============================] - 19s 235ms/step - loss: 0.0012 - val_loss: 0.0064\n",
            "Epoch 61/100\n",
            "82/82 [==============================] - 19s 233ms/step - loss: 0.0012 - val_loss: 0.0052\n",
            "Epoch 62/100\n",
            "82/82 [==============================] - 19s 231ms/step - loss: 0.0012 - val_loss: 0.0049\n",
            "Epoch 63/100\n",
            "82/82 [==============================] - 21s 253ms/step - loss: 0.0012 - val_loss: 0.0049\n",
            "Epoch 64/100\n",
            "82/82 [==============================] - 19s 236ms/step - loss: 0.0012 - val_loss: 0.0049\n",
            "Epoch 65/100\n",
            "82/82 [==============================] - 19s 233ms/step - loss: 0.0012 - val_loss: 0.0049\n",
            "Epoch 66/100\n",
            "82/82 [==============================] - 19s 232ms/step - loss: 0.0013 - val_loss: 0.0058\n",
            "Epoch 67/100\n",
            "82/82 [==============================] - 19s 230ms/step - loss: 0.0012 - val_loss: 0.0070\n",
            "Epoch 68/100\n",
            "82/82 [==============================] - 19s 231ms/step - loss: 0.0012 - val_loss: 0.0051\n",
            "Epoch 69/100\n",
            "82/82 [==============================] - 19s 232ms/step - loss: 0.0012 - val_loss: 0.0056\n",
            "Epoch 70/100\n",
            "82/82 [==============================] - 21s 256ms/step - loss: 0.0012 - val_loss: 0.0049\n",
            "Epoch 71/100\n",
            "33/82 [===========>..................] - ETA: 10s - loss: 0.0014"
          ]
        }
      ]
    },
    {
      "cell_type": "code",
      "source": [
        "y_test = y_test.reshape(-1,1)\n",
        "y_train = y_train.reshape(-1,1)\n",
        "y_test=scaler.inverse_transform(y_test)\n",
        "y_train=scaler.inverse_transform(y_train)"
      ],
      "metadata": {
        "id": "p4YyHBUFojxJ"
      },
      "execution_count": null,
      "outputs": []
    },
    {
      "cell_type": "code",
      "source": [
        "from sklearn.metrics import mean_squared_error\n",
        "mse = mean_squared_error(y_test, test_predict)\n",
        "rmse = math.sqrt(mse)\n",
        "print('RMSE:',rmse)\n",
        "\n",
        "from sklearn.metrics import mean_absolute_error\n",
        "mae = mean_absolute_error(y_test,test_predict)\n",
        "print('MAE:',mae)\n",
        "\n",
        "from sklearn.metrics import r2_score\n",
        "print('R-squared Error',r2_score(y_test, test_predict))"
      ],
      "metadata": {
        "colab": {
          "base_uri": "https://localhost:8080/"
        },
        "id": "GmLiPa2AonJg",
        "outputId": "660735fe-37df-4756-d7a9-f5aefc7589be"
      },
      "execution_count": null,
      "outputs": [
        {
          "output_type": "stream",
          "name": "stdout",
          "text": [
            "RMSE: 318.8464788917118\n",
            "MAE: 217.2102301825927\n",
            "R-squared Error 0.09165692370931411\n"
          ]
        }
      ]
    },
    {
      "cell_type": "code",
      "source": [
        "dates = df['date_arrival']\n",
        "dates_train, dates_test = train_test_split(dates, test_size=0.2, shuffle = False)\n",
        "dates_test = dates_test.to_numpy()\n",
        "dates_test = dates_test.reshape(-1,1)\n",
        "dates_train = dates_train.to_numpy()\n",
        "dates_train = dates_train.reshape(-1,1)\n",
        "x1_test, y1_test = create_dataset(dates_test, time_step)\n",
        "x1_train, y1_train = create_dataset(dates_train, time_step)"
      ],
      "metadata": {
        "id": "iGNmbt3Qr8NW"
      },
      "execution_count": null,
      "outputs": []
    },
    {
      "cell_type": "code",
      "source": [
        "plt.plot(y1_test,y_test)\n",
        "plt.plot(y1_test, test_predict)\n",
        "plt.plot()\n",
        "plt.title('Time Series Plot')\n",
        "plt.xlabel('Date')\n",
        "plt.ylabel('Price')\n",
        "plt.show()"
      ],
      "metadata": {
        "colab": {
          "base_uri": "https://localhost:8080/",
          "height": 295
        },
        "id": "R5H6kHzltD5h",
        "outputId": "fb8dd311-70b4-471c-f4f4-5f807aac254f"
      },
      "execution_count": null,
      "outputs": [
        {
          "output_type": "display_data",
          "data": {
            "text/plain": [
              "<Figure size 432x288 with 1 Axes>"
            ],
            "image/png": "[encoded data removed]"
          },
          "metadata": {
            "needs_background": "light"
          }
        }
      ]
    },
    {
      "cell_type": "code",
      "source": [
        "plt.plot(y1_test,y_test)\n",
        "plt.plot(y1_test, test_predict)\n",
        "plt.plot(y1_train, y_train)\n",
        "plt.plot(y1_train, train_predict)\n",
        "#plt.plot(x1_test, x_test)\n",
        "#plt.plot(x1_train, x_train)\n",
        "plt.plot()\n",
        "plt.title('Time Series Plot')\n",
        "plt.xlabel('Date')\n",
        "plt.ylabel('Price')"
      ],
      "metadata": {
        "colab": {
          "base_uri": "https://localhost:8080/",
          "height": 313
        },
        "id": "9WSPl3D2TTvl",
        "outputId": "379900e4-582a-4afc-c638-f46f7fe66d68"
      },
      "execution_count": null,
      "outputs": [
        {
          "output_type": "execute_result",
          "data": {
            "text/plain": [
              "Text(0, 0.5, 'Price')"
            ]
          },
          "metadata": {},
          "execution_count": 41
        },
        {
          "output_type": "display_data",
          "data": {
            "text/plain": [
              "<Figure size 432x288 with 1 Axes>"
            ],
            "image/png": "[encoded data removed]"
          },
          "metadata": {
            "needs_background": "light"
          }
        }
      ]
    },
    {
      "cell_type": "code",
      "source": [
        "print(x1_test, x1_train)"
      ],
      "metadata": {
        "id": "NioUiUnMT1C_"
      },
      "execution_count": null,
      "outputs": []
    },
    {
      "cell_type": "code",
      "source": [
        "x1_test.reshape(-1,1).shape\n",
        "x1_train.reshape(-1,1).shape"
      ],
      "metadata": {
        "id": "zdFzSKiuVAXc"
      },
      "execution_count": null,
      "outputs": []
    },
    {
      "cell_type": "code",
      "source": [
        "x_test.shape"
      ],
      "metadata": {
        "id": "EB7lyBNaVumb"
      },
      "execution_count": null,
      "outputs": []
    },
    {
      "cell_type": "code",
      "source": [],
      "metadata": {
        "colab": {
          "base_uri": "https://localhost:8080/"
        },
        "id": "wO5wkJ6RfgMu",
        "outputId": "e8364b0c-128c-42b4-e312-81ce618d2250"
      },
      "execution_count": null,
      "outputs": [
        {
          "output_type": "execute_result",
          "data": {
            "text/plain": [
              "(1202, 128)"
            ]
          },
          "metadata": {},
          "execution_count": 43
        }
      ]
    },
    {
      "cell_type": "code",
      "source": [],
      "metadata": {
        "id": "FIgUAqAtz4sh"
      },
      "execution_count": null,
      "outputs": []
    }
  ]
}